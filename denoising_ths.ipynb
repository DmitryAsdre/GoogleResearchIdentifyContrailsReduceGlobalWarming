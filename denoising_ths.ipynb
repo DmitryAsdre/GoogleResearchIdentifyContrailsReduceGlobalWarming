{
 "cells": [
  {
   "cell_type": "code",
   "execution_count": 1,
   "metadata": {},
   "outputs": [],
   "source": [
    "import os\n",
    "from tqdm import tqdm\n",
    "\n",
    "import numpy as np\n",
    "import matplotlib.pyplot as plt\n",
    "\n",
    "import torch\n",
    "from torch.optim import AdamW\n",
    "from torch.optim.lr_scheduler import CosineAnnealingLR\n",
    "from torch.utils.data import Dataset, DataLoader\n",
    "from torch.cuda.amp import GradScaler\n",
    "from torch.cuda.amp import autocast\n",
    "\n",
    "from torch.utils.tensorboard import SummaryWriter\n",
    "\n",
    "import torchvision.transforms as T\n",
    "\n",
    "import albumentations as A\n",
    "from albumentations.pytorch import ToTensorV2\n",
    "from albumentations import ImageOnlyTransform\n",
    "\n",
    "import timm\n",
    "\n",
    "import segmentation_models_pytorch as smp\n",
    "from segmentation_models_pytorch.losses import DiceLoss\n",
    "from segmentation_models_pytorch.losses import SoftBCEWithLogitsLoss\n",
    "from torchvision.transforms.functional import hflip, vflip, rotate\n",
    "\n",
    "\n",
    "\n",
    "from utils.metrics import dice_avg"
   ]
  },
  {
   "cell_type": "code",
   "execution_count": 2,
   "metadata": {},
   "outputs": [],
   "source": [
    "class CFG:\n",
    "    valid_loss_th = DiceLoss(mode='binary', from_logits=False)"
   ]
  },
  {
   "cell_type": "code",
   "execution_count": 3,
   "metadata": {},
   "outputs": [],
   "source": [
    "def get_ths(all_preds, all_masks):\n",
    "    all_preds_sigmoid = all_preds#torch.nn.Sigmoid()(all_preds)\n",
    "    \n",
    "    ths, losses = [], []\n",
    "    for th in np.linspace(0.05, 1.01, 55):\n",
    "        all_preds_cur = (all_preds_sigmoid > th).to(int)\n",
    "        cur_loss = CFG.valid_loss_th(all_preds_cur, all_masks)\n",
    "        \n",
    "        ths.append(th)\n",
    "        losses.append(cur_loss.item())\n",
    "        \n",
    "    return ths, losses"
   ]
  },
  {
   "cell_type": "code",
   "execution_count": 4,
   "metadata": {},
   "outputs": [],
   "source": [
    "all_preds = torch.load('./all_preds.pth', map_location=torch.device('cpu'))"
   ]
  },
  {
   "cell_type": "code",
   "execution_count": 5,
   "metadata": {},
   "outputs": [],
   "source": [
    "img_pred_sigmoid = torch.sigmoid(all_preds['full_preds']).to('cuda:0')\n",
    "mask = all_preds['mask'].to('cuda:0')"
   ]
  },
  {
   "cell_type": "code",
   "execution_count": 10,
   "metadata": {},
   "outputs": [],
   "source": [
    "img_pred_sigmoid_mean = (img_pred_sigmoid[:, 3, :, :] + \n",
    "                         img_pred_sigmoid[:, 4, :, :])/2.0\n",
    "\n",
    "#img_pred_sigmoid_mean = (img_pred_sigmoid[:, 1, :, :] + \n",
    "#                         img_pred_sigmoid[:, 3, :, :] + \n",
    "#                         img_pred_sigmoid[:, 4, :, :] + \n",
    "#                         img_pred_sigmoid[:, 5, :, :])/4.0"
   ]
  },
  {
   "cell_type": "code",
   "execution_count": 11,
   "metadata": {},
   "outputs": [],
   "source": [
    "with torch.no_grad():\n",
    "    ths, losses_ = get_ths(img_pred_sigmoid_mean, mask)"
   ]
  },
  {
   "cell_type": "code",
   "execution_count": 12,
   "metadata": {},
   "outputs": [
    {
     "data": {
      "text/plain": [
       "0.30913686752319336"
      ]
     },
     "execution_count": 12,
     "metadata": {},
     "output_type": "execute_result"
    }
   ],
   "source": [
    "np.min(losses_)"
   ]
  },
  {
   "cell_type": "code",
   "execution_count": 13,
   "metadata": {},
   "outputs": [
    {
     "data": {
      "text/plain": [
       "0.4588888888888889"
      ]
     },
     "execution_count": 13,
     "metadata": {},
     "output_type": "execute_result"
    }
   ],
   "source": [
    "ths[np.argmin(losses_)]"
   ]
  },
  {
   "cell_type": "code",
   "execution_count": null,
   "metadata": {},
   "outputs": [],
   "source": []
  }
 ],
 "metadata": {
  "kernelspec": {
   "display_name": "google_research",
   "language": "python",
   "name": "python3"
  },
  "language_info": {
   "codemirror_mode": {
    "name": "ipython",
    "version": 3
   },
   "file_extension": ".py",
   "mimetype": "text/x-python",
   "name": "python",
   "nbconvert_exporter": "python",
   "pygments_lexer": "ipython3",
   "version": "3.8.17"
  },
  "orig_nbformat": 4
 },
 "nbformat": 4,
 "nbformat_minor": 2
}
